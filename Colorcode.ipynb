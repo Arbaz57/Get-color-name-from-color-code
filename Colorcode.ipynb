{
  "nbformat": 4,
  "nbformat_minor": 0,
  "metadata": {
    "colab": {
      "name": "Colorcode.ipynb",
      "provenance": [],
      "collapsed_sections": [],
      "authorship_tag": "ABX9TyOh4GkM3NHc/jJlIEcyQw3p",
      "include_colab_link": true
    },
    "kernelspec": {
      "name": "python3",
      "display_name": "Python 3"
    },
    "language_info": {
      "name": "python"
    }
  },
  "cells": [
    {
      "cell_type": "markdown",
      "metadata": {
        "id": "view-in-github",
        "colab_type": "text"
      },
      "source": [
        "<a href=\"https://colab.research.google.com/github/Arbaz57/Get-color-name-from-color-code/blob/main/Colorcode.ipynb\" target=\"_parent\"><img src=\"https://colab.research.google.com/assets/colab-badge.svg\" alt=\"Open In Colab\"/></a>"
      ]
    },
    {
      "cell_type": "code",
      "source": [
        "!pip install webcolors"
      ],
      "metadata": {
        "colab": {
          "base_uri": "https://localhost:8080/"
        },
        "id": "aJuflAkOA1VH",
        "outputId": "e460e209-3720-431a-b4b8-fd4f53cb15cb"
      },
      "execution_count": 1,
      "outputs": [
        {
          "output_type": "stream",
          "name": "stdout",
          "text": [
            "Requirement already satisfied: webcolors in /usr/local/lib/python3.7/dist-packages (1.11.1)\n"
          ]
        }
      ]
    },
    {
      "cell_type": "code",
      "source": [
        "from webcolors import rgb_to_name"
      ],
      "metadata": {
        "id": "86E6ZgFAAkrT"
      },
      "execution_count": 2,
      "outputs": []
    },
    {
      "cell_type": "code",
      "source": [
        "from scipy.spatial import KDTree\n",
        "from webcolors import CSS3_HEX_TO_NAMES\n",
        "from webcolors import hex_to_rgb\n",
        "\n",
        "def convert_hash_to_names(hashcode):\n",
        "\n",
        "  r,g,b = hex_to_rgb(hashcode)\n",
        "  css3_db = CSS3_HEX_TO_NAMES\n",
        "  names = []\n",
        "  rgb_values = []\n",
        "  for color_hex, color_name in css3_db.items():\n",
        "      names.append(color_name)\n",
        "      rgb_values.append(hex_to_rgb(color_hex))\n",
        "  \n",
        "  kdt_db = KDTree(rgb_values)\n",
        "  distance, index = kdt_db.query((r,g,b))\n",
        "  return f'closest match: {names[index]}'"
      ],
      "metadata": {
        "id": "jrcHpPEZBGtU"
      },
      "execution_count": 3,
      "outputs": []
    },
    {
      "cell_type": "code",
      "source": [
        "print(convert_hash_to_names(u'#e4b19b'))"
      ],
      "metadata": {
        "colab": {
          "base_uri": "https://localhost:8080/"
        },
        "id": "E-BBwZfvB5SU",
        "outputId": "ce371768-a133-4378-abca-f8fd3dedad2f"
      },
      "execution_count": 4,
      "outputs": [
        {
          "output_type": "stream",
          "name": "stdout",
          "text": [
            "closest match: burlywood\n"
          ]
        }
      ]
    }
  ]
}